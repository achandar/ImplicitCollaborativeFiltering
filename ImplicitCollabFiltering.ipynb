{
 "cells": [
  {
   "cell_type": "code",
   "execution_count": 1,
   "metadata": {
    "collapsed": false
   },
   "outputs": [],
   "source": [
    "import numpy as np\n",
    "import pandas as pd\n",
    "import scipy.sparse as sparse\n",
    "from scipy.sparse.linalg import spsolve\n",
    "import random\n",
    "from sklearn import metrics\n",
    "from sklearn.preprocessing import MinMaxScaler\n",
    "from tabulate import tabulate\n",
    "import warnings\n",
    "warnings.filterwarnings('ignore')\n",
    "from IPython.core.interactiveshell import InteractiveShell\n",
    "InteractiveShell.ast_node_interactivity = \"all\""
   ]
  },
  {
   "cell_type": "markdown",
   "metadata": {},
   "source": [
    "References: \n",
    "\n",
    "\n",
    "Collaborative Filtering for Implicit Feedback DataSets by Hu, Koren, and Volinsky - http://yifanhu.net/PUB/cf.pdf\n",
    "\n",
    "Alternating Least Squares Method for Collaborative Filtering by Bugra Akyildiz - http://bugra.github.io/work/notes/2014-04-19/alternating-least-squares-method-for-collaborative-filtering/\n",
    "\n",
    "\n",
    "The incredible Jesse Steinweg - https://jessesw.com/ and his blog that guided me through this https://jessesw.com/Rec-System/"
   ]
  },
  {
   "cell_type": "code",
   "execution_count": 2,
   "metadata": {
    "collapsed": false
   },
   "outputs": [],
   "source": [
    "# Read the data Online Retail from the UCI Machine Learning Repo\n",
    "url = 'http://archive.ics.uci.edu/ml/machine-learning-databases/00352/Online%20Retail.xlsx'\n",
    "raw_data = pd.read_excel(url)"
   ]
  },
  {
   "cell_type": "code",
   "execution_count": 3,
   "metadata": {
    "collapsed": false
   },
   "outputs": [
    {
     "name": "stdout",
     "output_type": "stream",
     "text": [
      "  InvoiceNo StockCode                          Description  Quantity  \\\n",
      "0    536365    85123A   WHITE HANGING HEART T-LIGHT HOLDER         6   \n",
      "1    536365     71053                  WHITE METAL LANTERN         6   \n",
      "2    536365    84406B       CREAM CUPID HEARTS COAT HANGER         8   \n",
      "3    536365    84029G  KNITTED UNION FLAG HOT WATER BOTTLE         6   \n",
      "4    536365    84029E       RED WOOLLY HOTTIE WHITE HEART.         6   \n",
      "\n",
      "          InvoiceDate  UnitPrice  CustomerID         Country  \n",
      "0 2010-12-01 08:26:00       2.55     17850.0  United Kingdom  \n",
      "1 2010-12-01 08:26:00       3.39     17850.0  United Kingdom  \n",
      "2 2010-12-01 08:26:00       2.75     17850.0  United Kingdom  \n",
      "3 2010-12-01 08:26:00       3.39     17850.0  United Kingdom  \n",
      "4 2010-12-01 08:26:00       3.39     17850.0  United Kingdom  \n",
      "(541909, 8)\n"
     ]
    }
   ],
   "source": [
    "# Preview the ratings dataframe\n",
    "print(raw_data.head())\n",
    "print(raw_data.shape)"
   ]
  },
  {
   "cell_type": "code",
   "execution_count": 4,
   "metadata": {
    "collapsed": false
   },
   "outputs": [
    {
     "name": "stdout",
     "output_type": "stream",
     "text": [
      "Number of customers: 4373\n",
      "Number of items bought: 4070\n"
     ]
    }
   ],
   "source": [
    "# Let's see how many items and customers there are in the dataset\n",
    "num_cust = len(raw_data.CustomerID.unique())\n",
    "num_items = len(raw_data.StockCode.unique())\n",
    "print('Number of customers: ' + str(num_cust))\n",
    "print('Number of items bought: ' + str(num_items))"
   ]
  },
  {
   "cell_type": "code",
   "execution_count": 5,
   "metadata": {
    "collapsed": false
   },
   "outputs": [
    {
     "name": "stdout",
     "output_type": "stream",
     "text": [
      "<class 'pandas.core.frame.DataFrame'>\n",
      "RangeIndex: 541909 entries, 0 to 541908\n",
      "Data columns (total 8 columns):\n",
      "InvoiceNo      541909 non-null object\n",
      "StockCode      541909 non-null object\n",
      "Description    540455 non-null object\n",
      "Quantity       541909 non-null int64\n",
      "InvoiceDate    541909 non-null datetime64[ns]\n",
      "UnitPrice      541909 non-null float64\n",
      "CustomerID     406829 non-null float64\n",
      "Country        541909 non-null object\n",
      "dtypes: datetime64[ns](1), float64(2), int64(1), object(4)\n",
      "memory usage: 33.1+ MB\n"
     ]
    }
   ],
   "source": [
    "# Let's check for missing data\n",
    "raw_data.info()"
   ]
  },
  {
   "cell_type": "code",
   "execution_count": 6,
   "metadata": {
    "collapsed": false
   },
   "outputs": [
    {
     "name": "stdout",
     "output_type": "stream",
     "text": [
      "<class 'pandas.core.frame.DataFrame'>\n",
      "Int64Index: 406829 entries, 0 to 541908\n",
      "Data columns (total 8 columns):\n",
      "InvoiceNo      406829 non-null object\n",
      "StockCode      406829 non-null object\n",
      "Description    406829 non-null object\n",
      "Quantity       406829 non-null int64\n",
      "InvoiceDate    406829 non-null datetime64[ns]\n",
      "UnitPrice      406829 non-null float64\n",
      "CustomerID     406829 non-null int64\n",
      "Country        406829 non-null object\n",
      "dtypes: datetime64[ns](1), float64(1), int64(2), object(4)\n",
      "memory usage: 27.9+ MB\n"
     ]
    }
   ],
   "source": [
    "# Since some records have no cusotmer ID, let's drop those columns\n",
    "retail_data = raw_data.loc[pd.isnull(raw_data.CustomerID) == False]\n",
    "\n",
    "#Convert CustomerID to int\n",
    "retail_data.CustomerID = retail_data.CustomerID.astype(int)\n",
    "\n",
    "#Convert StockCode to string\n",
    "retail_data.StockCode = retail_data.StockCode.astype(str)\n",
    "\n",
    "# Check if data doesn't contain any nulls now\n",
    "retail_data.info()"
   ]
  },
  {
   "cell_type": "code",
   "execution_count": 7,
   "metadata": {
    "collapsed": false
   },
   "outputs": [
    {
     "name": "stdout",
     "output_type": "stream",
     "text": [
      "{'85123A': 'CREAM HANGING HEART T-LIGHT HOLDER', '71053': 'WHITE MOROCCAN METAL LANTERN', '84406B': 'CREAM CUPID HEARTS COAT HANGER', '84029G': 'KNITTED UNION FLAG HOT WATER BOTTLE', '84029E': 'RED WOOLLY HOTTIE WHITE HEART.'}\n"
     ]
    }
   ],
   "source": [
    "# Let's make a dictionary of Stock Code to Description\n",
    "item_desc = retail_data[['StockCode', 'Description']]\n",
    "item_desc = item_desc.drop_duplicates().dropna(how='all').reset_index(drop=True)\n",
    "itemDescDict = item_desc.set_index('StockCode').to_dict()['Description']\n",
    "\n",
    "# Preview first 5 elements of dictionary\n",
    "print(dict(list(itemDescDict.items())[0:5]))"
   ]
  },
  {
   "cell_type": "code",
   "execution_count": 8,
   "metadata": {
    "collapsed": false
   },
   "outputs": [
    {
     "name": "stdout",
     "output_type": "stream",
     "text": [
      "count    406829.000000\n",
      "mean         12.061303\n",
      "std         248.693370\n",
      "min      -80995.000000\n",
      "25%           2.000000\n",
      "50%           5.000000\n",
      "75%          12.000000\n",
      "max       80995.000000\n",
      "Name: Quantity, dtype: float64\n",
      "Lowest 10 values for Quantity[-80995 -74215  -9360  -3114  -2000  -1930  -1515  -1350  -1300  -1296]\n"
     ]
    }
   ],
   "source": [
    "# Let's explore the quantity feature\n",
    "print(retail_data.Quantity.describe())\n",
    "print ('Lowest 10 values for Quantity' + str(np.sort(retail_data.Quantity)[0:10]))\n",
    "\n",
    "# Let's assume the negative quantities indicate that the customer returned the item. "
   ]
  },
  {
   "cell_type": "code",
   "execution_count": 9,
   "metadata": {
    "collapsed": false
   },
   "outputs": [
    {
     "name": "stdout",
     "output_type": "stream",
     "text": [
      "   CustomerID StockCode  Quantity\n",
      "0       12346     23166         0\n",
      "1       12347     16008        24\n",
      "2       12347     17021        36\n",
      "3       12347     20665         6\n",
      "4       12347     20719        40\n",
      "\n",
      "Final Matrix of grouped purchases\n",
      "   CustomerID StockCode  Quantity\n",
      "0       12346     23166         1\n",
      "1       12347     16008        24\n",
      "2       12347     17021        36\n",
      "3       12347     20665         6\n",
      "4       12347     20719        40\n"
     ]
    }
   ],
   "source": [
    "# Let's group purchase quantities by Stock Code and CustomerID\n",
    "retail_data = retail_data[['StockCode', 'Quantity', 'CustomerID']]\n",
    "retail_grouped = retail_data.groupby(['CustomerID', 'StockCode']).sum().reset_index()\n",
    "print(retail_grouped.head())\n",
    "\n",
    "# If the quantity sum is 0, replace with 1 to indicate that there was a purchase of that item atleast\n",
    "retail_grouped.Quantity.loc[retail_grouped.Quantity == 0] = 1\n",
    "\n",
    "# Filter out all negative quantities so that we can focus the recommendation of items that the customer purchased and liked\n",
    "retail_grouped_final = retail_grouped[retail_grouped.Quantity > 0]\n",
    "print ('\\nFinal Matrix of grouped purchases')\n",
    "print (retail_grouped_final.head())"
   ]
  },
  {
   "cell_type": "code",
   "execution_count": 10,
   "metadata": {
    "collapsed": false
   },
   "outputs": [
    {
     "data": {
      "text/plain": [
       "\"\\nLet's build the sparse customer-stockID matrix where customers are on rows, items on columns\\nand the values in the matrix is the quantity purchased\\n      item1  item2   item3 ....\\ncust1  1            \\ncust2         24      36\\ncust3         12\\n\""
      ]
     },
     "execution_count": 10,
     "metadata": {},
     "output_type": "execute_result"
    }
   ],
   "source": [
    "'''\n",
    "Let's build the sparse customer-stockID matrix where customers are on rows, items on columns\n",
    "and the values in the matrix is the quantity purchased\n",
    "      item1  item2   item3 ....\n",
    "cust1  1            \n",
    "cust2         24      36\n",
    "cust3         12\n",
    "'''\n",
    "\n",
    "\n",
    "# Get list of unique customers\n",
    "cust_list = list(np.sort(retail_grouped_final.CustomerID.unique()))\n",
    "# Get list of unique items bought\n",
    "item_list = list(np.sort(retail_grouped_final.StockCode.unique()))\n",
    "# Get list of all the purchase quantities\n",
    "quantity_list = list(retail_grouped_final.Quantity)\n",
    "\n",
    "\n",
    "# Building the matrix....\n",
    "mat_rows = retail_grouped_final.CustomerID.astype('category', categories = cust_list).cat.codes\n",
    "mat_cols = retail_grouped_final.StockCode.astype('category', categories = item_list).cat.codes\n",
    "\n",
    "purchases_mat = sparse.csr_matrix((quantity_list, (mat_rows, mat_cols)), shape = (len(cust_list), len(item_list)))"
   ]
  },
  {
   "cell_type": "code",
   "execution_count": 11,
   "metadata": {
    "collapsed": false
   },
   "outputs": [
    {
     "name": "stdout",
     "output_type": "stream",
     "text": [
      "Shape of sparse matrix (4338, 3664)\n"
     ]
    },
    {
     "data": {
      "text/plain": [
       "<4338x3664 sparse matrix of type '<class 'numpy.int64'>'\n",
       "\twith 266723 stored elements in Compressed Sparse Row format>"
      ]
     },
     "execution_count": 11,
     "metadata": {},
     "output_type": "execute_result"
    },
    {
     "data": {
      "text/plain": [
       "'\\n4338 customers with 3664 items and of those 266723 have a purchase \\nquantity associated with that customer/item combination\\n'"
      ]
     },
     "execution_count": 11,
     "metadata": {},
     "output_type": "execute_result"
    }
   ],
   "source": [
    "print (\"Shape of sparse matrix \" + str(purchases_mat.shape))\n",
    "\n",
    "purchases_mat\n",
    "'''\n",
    "4338 customers with 3664 items and of those 266723 have a purchase \n",
    "quantity associated with that customer/item combination\n",
    "'''\n"
   ]
  },
  {
   "cell_type": "code",
   "execution_count": 12,
   "metadata": {
    "collapsed": false
   },
   "outputs": [
    {
     "name": "stdout",
     "output_type": "stream",
     "text": [
      "Sparsity Percentage in Ratings Matrix is 98.32\n"
     ]
    }
   ],
   "source": [
    "# Let's check how sparse the matrix is \n",
    "# Get all possible combination of purchases\n",
    "purchase_mat_size = purchases_mat.shape[0]*purchases_mat.shape[1]\n",
    "# Get actual number of item purchased\n",
    "num_purchases = len(purchases_mat.nonzero()[0])\n",
    "sparse_per = 100*(1 - (num_purchases/purchase_mat_size))\n",
    "print ('Sparsity Percentage in Ratings Matrix is ' + str(round(sparse_per,2)))"
   ]
  },
  {
   "cell_type": "code",
   "execution_count": 13,
   "metadata": {
    "collapsed": false
   },
   "outputs": [
    {
     "data": {
      "text/plain": [
       "'\\nSplit into test and train by masking some values of the dataset in the training set with 0s indicating the customer did not purchase.\\nThen run the model on the complete matrix and see if the predicted values are equal to the original values before masking\\n\\n'"
      ]
     },
     "execution_count": 13,
     "metadata": {},
     "output_type": "execute_result"
    }
   ],
   "source": [
    "'''\n",
    "Split into test and train by masking some values of the dataset in the training set with 0s indicating the customer did not purchase.\n",
    "Then run the model on the complete matrix and see if the predicted values are equal to the original values before masking\n",
    "\n",
    "'''\n",
    "\n",
    "def create_train(matrix_data, mask_pct = 0.2):\n",
    "    '''\n",
    "    This function will take in the complete customer-item matrix and \"mask\" a percentage of the original purchases where a\n",
    "    user-item interaction has taken place for use as a test set. The test set will contain all of the original purchases, \n",
    "    while the training set replaces the specified percentage of them with a zero in the original purchases matrix. \n",
    "    \n",
    "    args:\n",
    "    matrix_data - the original purchases matrix from which you want to generate a train/test set. Takes sparse csr_matrix form.\n",
    "    \n",
    "    mask_pct - The percentage of customer-item interactions where an interaction took place that you want to mask in the \n",
    "    training set for later comparison to the test set. \n",
    "    \n",
    "    returns:\n",
    "    \n",
    "    training_set - The altered version of the original data with a certain percentage of the customer-item pairs \n",
    "    that originally had interaction set back to zero.\n",
    "    \n",
    "    test_set - A copy of the original purchase matrix converted to binary - 1 indicates purchase and 0 indicates no purchase.\n",
    "    \n",
    "    user_inds - From the randomly selected customer-item indices, which customer rows were altered in the training data.\n",
    "    '''\n",
    "    # Prepare the test set\n",
    "    test_mat = matrix_data.copy()\n",
    "    test_mat[test_mat != 0] = 1\n",
    "    # Prepare the training set\n",
    "    training_mat = matrix_data.copy()\n",
    "    # Get indices of purchases in the matrix\n",
    "    purchase_idx = training_mat.nonzero()\n",
    "    # Get corresponding user-item indices of the purchase\n",
    "    purchase_pairs = list(zip(purchase_idx[0], purchase_idx[1]))\n",
    "    random.seed(0)\n",
    "    # Number of samples to mask\n",
    "    num_samples = int(np.ceil(mask_pct*len(purchase_pairs)))\n",
    "    # Randomly sample from the purchases\n",
    "    samples = random.sample(purchase_pairs, num_samples)\n",
    "    customer_idx = [index[0] for index in samples]\n",
    "    item_idx = [index[1] for index in samples]\n",
    "    # Mask the items in the above indentified indices as 0\n",
    "    training_mat[customer_idx, item_idx] = 0 \n",
    "    # To save space, eliminate the zeros in the sparse matrix\n",
    "    training_mat.eliminate_zeros()\n",
    "    return training_mat, test_mat, list(set(customer_idx))"
   ]
  },
  {
   "cell_type": "code",
   "execution_count": 14,
   "metadata": {
    "collapsed": false
   },
   "outputs": [
    {
     "data": {
      "text/plain": [
       "<4338x3664 sparse matrix of type '<class 'numpy.int64'>'\n",
       "\twith 213378 stored elements in Compressed Sparse Row format>"
      ]
     },
     "execution_count": 14,
     "metadata": {},
     "output_type": "execute_result"
    },
    {
     "data": {
      "text/plain": [
       "<4338x3664 sparse matrix of type '<class 'numpy.int64'>'\n",
       "\twith 266723 stored elements in Compressed Sparse Row format>"
      ]
     },
     "execution_count": 14,
     "metadata": {},
     "output_type": "execute_result"
    }
   ],
   "source": [
    "# Call the create_train function\n",
    "\n",
    "train_mat, test_mat, customer_idx = create_train(purchases_mat)\n",
    "train_mat\n",
    "test_mat"
   ]
  },
  {
   "cell_type": "code",
   "execution_count": 15,
   "metadata": {
    "collapsed": false
   },
   "outputs": [],
   "source": [
    "##### ALS Matrix Factorization\n",
    "### Reference : http://yifanhu.net/PUB/cf.pdf\n",
    "\n",
    "\n",
    "def implicit_weighted_ALS(training_mat, lambda_val = 0.1, alpha = 40, iterations = 10, rank_size = 20, seed = 0):\n",
    "    '''\n",
    "    args:\n",
    "    training_mat - Matrix with shape m x n; m = number of customers, n = number of items\n",
    "    \n",
    "    lambda_val - Regularization constraint for bias-variance trade-off. Increasing lambda_val increases bias but reduced variance\n",
    "    \n",
    "    alpha - Parameter describing the confidence of the matrix. The paper identified 40 as most effective. Descreasing this value will decrease the confidence between various purchases.\n",
    "    \n",
    "    iterations - Number of times to alternate between the customer feature vector (U) and item feature vector (V) in ALS. More iterations will give better convergence but increase computation.\n",
    "    \n",
    "    rank_size - Number of latent features in the customer/item feature vectors. Paper recommends between 20-200. Increasing may overfit but reduce bias.\n",
    "    \n",
    "    seed - internal state of random number generator.\n",
    "    \n",
    "    returns:\n",
    "    U (feature vector for customers) and V (feature vector for item.)\n",
    "    U.dot(V) would give us the predicted purchases matrix.\n",
    "    '''\n",
    "    \n",
    "    # Create confidence Matrix of size m x n\n",
    "    conf = (alpha*training_mat)\n",
    "    num_cust = conf.shape[0]\n",
    "    num_item = conf.shape[1]\n",
    "    \n",
    "    # Initial U/V feature vectors randomly\n",
    "    state = np.random.RandomState(seed)\n",
    "    # Create the customer feature vector with random numbers of size m x rank_size (number of latent features)\n",
    "    U = sparse.csr_matrix(state.normal(size = (num_cust, rank_size)))\n",
    "    # Create the item feature vector with random numbers of size n x rank_size (number of latent features). Will transpose it later\n",
    "    V = sparse.csr_matrix(state.normal(size = (num_item, rank_size)))\n",
    "    \n",
    "    # Create a sparse matrix with 1s along the diagonal for U\n",
    "    U_diag = sparse.eye(num_cust)\n",
    "    # Create a sparse matrix with 1s along the diagonal for V\n",
    "    V_diag = sparse.eye(num_item)\n",
    "    # Create a sparse matrix of 1s along the diagonal of the latent feature vector and the regularitzation term\n",
    "    lambda_diag = lambda_val * sparse.eye(rank_size)\n",
    "    \n",
    "    # Set up iterations\n",
    "    # Iterate between solving for U with V fixed and vice versa\n",
    "    for step in range(iterations):\n",
    "        # Compute vTv and uTu before to save computing time\n",
    "        vTv = V.T.dot(V)\n",
    "        uTu = U.T.dot(U)\n",
    "        # Begin iteration to solve for U on fixed V\n",
    "        for u in range(num_cust):\n",
    "            # Convert customer row from confidence matrix to dense vector\n",
    "            conf_samp = conf[u,:].toarray()\n",
    "            pref = conf_samp.copy()\n",
    "            # Create a binary preference vector\n",
    "            pref[pref != 0] = 1\n",
    "            # Beging solving through the equations defined in the paper\n",
    "            # Cu -I term\n",
    "            CuI = sparse.diags(conf_samp, [0])\n",
    "            # yT(Cu-I)Y term\n",
    "            vTCuIV = V.T.dot(CuI).dot(V)\n",
    "            # yTCuPu term where we add the diagonal back in\n",
    "            vTCupu = V.T.dot(CuI + V_diag).dot(pref.T)\n",
    "            # Solve for Xu = ((yTy + yT(Cu-I)Y + lambda*I)^-1)yTCuPu\n",
    "            U[u] = spsolve(vTv + vTCuIV + lambda_diag, vTCupu)\n",
    "            \n",
    "        # Begin iteration to solve for V on fixed U\n",
    "        for v in range(num_item):\n",
    "            # Transpose item row from confidence matrix to dense vector\n",
    "            conf_samp = conf[:,v].T.toarray()\n",
    "            pref = conf_samp.copy()\n",
    "            # Create a binary preference vector\n",
    "            pref[pref != 0] = 1\n",
    "            # Beging solving through the equations defined in the paper\n",
    "            # Cu -I term\n",
    "            CvI = sparse.diags(conf_samp, [0])\n",
    "            # xT(Cv-I)X term\n",
    "            uTCvIU = U.T.dot(CvI).dot(U)\n",
    "            # xTCuPu term where we add the diagonal back in\n",
    "            uTCvpv = U.T.dot(CvI + U_diag).dot(pref.T)\n",
    "            # Solve for Yv = ((xTx + xT(Cu-I)X) + lambda*I)^-1)xTCvPv\n",
    "            V[v] = spsolve(uTu + uTCvIU + lambda_diag, uTCvpv)\n",
    "            \n",
    "    return U, V.T\n",
    "            \n"
   ]
  },
  {
   "cell_type": "code",
   "execution_count": 16,
   "metadata": {
    "collapsed": true
   },
   "outputs": [],
   "source": [
    "# Call the function with lambda_val 0.1, alpha 40, 30 iterations and 10 latent features\n",
    "cust_vecs, item_vecs = implicit_weighted_ALS(train_mat, lambda_val=0.1, alpha = 40, iterations = 30, rank_size = 10)"
   ]
  },
  {
   "cell_type": "code",
   "execution_count": 17,
   "metadata": {
    "collapsed": false
   },
   "outputs": [
    {
     "data": {
      "text/plain": [
       "array([-0.05921392,  0.00722905, -0.01314641, -0.00457686, -0.01961767])"
      ]
     },
     "execution_count": 17,
     "metadata": {},
     "output_type": "execute_result"
    }
   ],
   "source": [
    "# Predictions for the first customer across the first 5 items\n",
    "cust_vecs[0:,].dot(item_vecs).toarray()[0,:5]"
   ]
  },
  {
   "cell_type": "code",
   "execution_count": 18,
   "metadata": {
    "collapsed": true
   },
   "outputs": [],
   "source": [
    "# Evaluating the recommendation\n",
    "# Compare the predictions of those customer-item combinations that we intentionally set to zero against the most popular items\n",
    "\n",
    "def calc_mean_auc(training_mat, altered_custs, predictions, test_mat):\n",
    "    '''\n",
    "    args:\n",
    "    training_mat - The orginial training_mat where we masked some customers' purchases to zero. \n",
    "    \n",
    "    altered_custs - The indices of the customers where atleast one customer/item pair was altered to 0.\n",
    "    \n",
    "    predictions - The matrix of predicted purchases. These should be stored in a list, with customer vectors as item zero and item vectors as item one.\n",
    "    \n",
    "    test_mat - The test matrix constructed from the create_train function\n",
    "    \n",
    "    returns:\n",
    "    \n",
    "    The mean AUC of the test set only on customer-item iteractions that were originally zero to test ranking ability in addition to most popular items as a benchmark.\n",
    "    '''\n",
    "    \n",
    "    store_auc = []\n",
    "    popularity_auc = []\n",
    "    # Get sum of item interactions to get most popular items\n",
    "    popular_items = np.array(test_mat.sum(axis =0)).reshape(-1)\n",
    "    item_vecs = predictions[1]\n",
    "    for cust in altered_custs:\n",
    "        # Get the training matrix row where the interactions were zero\n",
    "        training_row = training_mat[cust, :].toarray().reshape(-1)\n",
    "        zero_inds = np.where(training_row == 0)\n",
    "        # Get the predicted values based on our customer/item vectors\n",
    "        cust_vec = predictions[0][cust,:]\n",
    "        pred = cust_vec.dot(item_vecs).toarray()[0, zero_inds].reshape(-1)\n",
    "        # Get only items that were originally zero\n",
    "        actual = test_mat[cust,:].toarray()[0, zero_inds].reshape(-1)\n",
    "        popular = popular_items[zero_inds]\n",
    "        # Calculate AUC for predicted vs actual\n",
    "        fpr, tpr, thresholds = metrics.roc_curve(actual, pred)\n",
    "        store_auc.append(metrics.auc(fpr, tpr))\n",
    "        # Calculate AUC for popular vs actual\n",
    "        fpr_pop, tpr_pop, thresholds_pop = metrics.roc_curve(actual, popular)\n",
    "        popularity_auc.append(metrics.auc(fpr_pop, tpr_pop))\n",
    "        \n",
    "    return float('%.3f'%np.mean(store_auc)), float('%.3f'%np.mean(popularity_auc))\n",
    "    "
   ]
  },
  {
   "cell_type": "code",
   "execution_count": 19,
   "metadata": {
    "collapsed": false
   },
   "outputs": [
    {
     "data": {
      "text/plain": [
       "(0.853, 0.814)"
      ]
     },
     "execution_count": 19,
     "metadata": {},
     "output_type": "execute_result"
    }
   ],
   "source": [
    "# Calculate AUC for the recommender system we built\n",
    "\n",
    "calc_mean_auc(train_mat, customer_idx, [sparse.csr_matrix(cust_vecs), sparse.csr_matrix(item_vecs)], test_mat)"
   ]
  },
  {
   "cell_type": "markdown",
   "metadata": {
    "collapsed": false
   },
   "source": [
    "Mean AUC Score of 0.853 shows that our recommendation engine did better than the popular item recommender which had a mean \n",
    "AUC of 0.814. An AUC of 0.853 also menas that the system is recommending items the customer did purchase in the test set more frequently than the items they did not purchase.\n",
    "\n",
    "Increasing the number of iterations/latent features might improve our score but we must also be careful to not overfit. \n",
    "Cross-validation is one technique that might help to prevent over-fitting.\n",
    "\n",
    "\n",
    "There are in-built libraries that parallelize the ALS matrix factorization but the above function is to understand each step of the factorization and find areas for tuning."
   ]
  },
  {
   "cell_type": "code",
   "execution_count": 20,
   "metadata": {
    "collapsed": true
   },
   "outputs": [],
   "source": [
    "# Sampling the Recommendations provide using the item:desc dictionary we had created earlier\n",
    "\n",
    "customers_arr = np.array(cust_list)\n",
    "items_arr = np.array(item_list)"
   ]
  },
  {
   "cell_type": "code",
   "execution_count": 21,
   "metadata": {
    "collapsed": true
   },
   "outputs": [],
   "source": [
    "def get_items_purchased(customer_id, train_mat, customers_arr, items_arr, item_lookup):\n",
    "    '''\n",
    "    Returns the items purchased by a specific customer in the training set\n",
    "    \n",
    "    args:\n",
    "    customer_id - ID of a customer whose made atleast one purchase\n",
    "    train_mat - The initial purchase matrix that we masked a percentage of\n",
    "    customers_arr - Array of customers in the purchase matrix\n",
    "    items_arr - Array of items in the purchase matrix\n",
    "    item_lookup - Dictionary of unique item ID to description\n",
    "    \n",
    "    returns:\n",
    "    A dictionary of stock_cd and description of those items already purchased\n",
    "    '''\n",
    "    # Get the index of the row where that customer ID is present\n",
    "    cust_ind = np.where(customers_arr == customer_id)[0][0]\n",
    "    # Get all the indices of the purchases made\n",
    "    purchase_ind = train_mat[cust_ind,:].nonzero()[1]\n",
    "    # Retrieve the product codes for the purchase indices\n",
    "    stock_codes = items_arr[purchase_ind]\n",
    "    # Look up the description for the stock code from itemDescDict\n",
    "    subdict = {x: item_lookup[x] for x in stock_codes if x in item_lookup}\n",
    "    return subdict"
   ]
  },
  {
   "cell_type": "code",
   "execution_count": 22,
   "metadata": {
    "collapsed": false
   },
   "outputs": [
    {
     "name": "stdout",
     "output_type": "stream",
     "text": [
      "Customer ID:  12353\n",
      "{'22890': 'NOVELTY BISCUITS CAKE STAND 3 TIER', '37446': 'MINI CAKE STAND WITH HANGING CAKES', '37449': 'CERAMIC CAKE STAND + HANGING CAKES', '37450': 'CERAMIC CAKE BOWL + HANGING CAKES'}\n",
      "--------------------------------------------------\n",
      "Customer ID:  12354\n",
      "{'20675': 'BLUE POLKADOT BOWL', '20676': 'RED RETROSPOT BOWL', '20677': 'PINK POLKADOT BOWL', '20725': 'LUNCH BAG RED SPOTTY', '20749': 'ASSORTED COLOUR MINI CASES', '21080': 'SET/20 RED RETROSPOT PAPER NAPKINS ', '21156': 'RETROSPOT CHILDRENS APRON', '21217': 'RED RETROSPOT ROUND CAKE TINS', '21238': 'RED RETROSPOT CUP', '21239': 'PINK  POLKADOT CUP', '21240': 'BLUE POLKADOT CUP', '21242': 'RED RETROSPOT PLATE ', '21243': 'PINK POLKADOT PLATE ', '21244': 'BLUE POLKADOT PLATE ', '21246': 'RED RETROSPOT BIG BOWL', '21380': 'WOODEN HAPPY BIRTHDAY GARLAND', '21533': 'RETROSPOT LARGE MILK JUG', '21731': 'RED TOADSTOOL LED NIGHT LIGHT', '21890': 'S/6 WOODEN SKITTLES IN COTTON BAG', '21891': 'TRADITIONAL WOODEN SKIPPING ROPE', '21922': 'UNION STRIPE WITH FRINGE  HAMMOCK', '22090': 'PAPER BUNTING RETROSPOT', '22138': 'BAKING SET 9 PIECE RETROSPOT ', '22215': 'CAKE STAND WHITE TWO TIER LACE', '22317': 'FIVE CATS HANGING DECORATION', '22326': 'ROUND SNACK BOXES SET OF4 WOODLAND ', '22344': 'PARTY PIZZA DISH PINK POLKADOT', '22384': 'LUNCH BAG PINK POLKADOT', '22623': 'BOX OF VINTAGE JIGSAW BLOCKS ', '22628': 'PICNIC BOXES SET OF 3 RETROSPOT ', '22629': 'SPACEBOY LUNCH BOX ', '22630': 'DOLLY GIRL LUNCH BOX', '22631': 'CIRCUS PARADE LUNCH BOX ', '22635': 'CHILDS BREAKFAST SET DOLLY GIRL ', '22661': 'CHARLOTTE BAG DOLLY GIRL DESIGN', '22668': 'PINK BABY BUNTING', '22839': '3 TIER CAKE TIN GREEN AND CREAM', '22899': \"CHILDREN'S APRON DOLLY GIRL \", '22983': 'CARD BILLBOARD FONT', '23010': 'CIRCUS PARADE BABY GIFT SET', '23052': 'RECYCLED ACAPULCO MAT TURQUOISE', '23054': 'RECYCLED ACAPULCO MAT LAVENDER', '23201': 'JUMBO BAG ALPHABET', '23205': 'CHARLOTTE BAG ALPHABET  DESIGN', '23254': 'KIDS CUTLERY DOLLY GIRL ', '23255': 'CHILDRENS CUTLERY CIRCUS PARADE', '23256': 'KIDS CUTLERY SPACEBOY ', '84997D': 'CHILDRENS CUTLERY POLKADOT PINK'}\n",
      "--------------------------------------------------\n",
      "Customer ID:  12355\n",
      "{'22423': 'REGENCY CAKESTAND 3 TIER', '22649': 'STRAWBERRY FAIRY CAKE TEAPOT', '22693': 'GROW A FLYTRAP OR SUNFLOWER IN TIN', '22697': 'GREEN REGENCY TEACUP AND SAUCER', '22698': 'PINK REGENCY TEACUP AND SAUCER', '22699': 'ROSES REGENCY TEACUP AND SAUCER ', '22890': 'NOVELTY BISCUITS CAKE STAND 3 TIER', '23076': 'ICE CREAM SUNDAE LIP GLOSS', '72802B': 'OCEAN SCENT CANDLE IN JEWELLED BOX', '72802C': 'VANILLA SCENT CANDLE JEWELLED BOX', '85040A': 'S/4 PINK FLOWER CANDLES IN BOWL'}\n",
      "--------------------------------------------------\n"
     ]
    }
   ],
   "source": [
    "# Let's look at what the first 5 customers purchased\n",
    "for cust in customers_arr[6:9]:\n",
    "    print('Customer ID: ', cust)\n",
    "    print(get_items_purchased(cust, train_mat, customers_arr, items_arr, itemDescDict))\n",
    "    print('--------------------------------------------------')"
   ]
  },
  {
   "cell_type": "code",
   "execution_count": 23,
   "metadata": {
    "collapsed": true
   },
   "outputs": [],
   "source": [
    "# Now let's write a function to get the recommended items for each of these customers using our recommendation engine\n",
    "\n",
    "def get_rec_item(customer_id, train_mat, customer_vecs, items_vecs, customer_arr, item_arr, item_lookup, num_items = 10):\n",
    "    '''\n",
    "    This function will return the top num_items recommended items to the customers\n",
    "    \n",
    "    args:\n",
    "    customer_id - ID of a customer who we want to see the recommendations for\n",
    "    train_mat - The initial purchase matrix that we masked a percentage of\n",
    "    customers_arr - Array of customers in the purchase matrix\n",
    "    items_arr - Array of items in the purchase matrix\n",
    "    item_lookup - Dictionary of unique item ID to description\n",
    "    num_items - The number of recommended items in order of best recommendation to lowest.\n",
    "    \n",
    "    returns:\n",
    "    The top n recommendations based on the U/V vectors for items never purchased/interacted with before\n",
    "    '''\n",
    "    # Get index of customerID\n",
    "    cust_ind = np.where(customer_arr == customer_id)[0][0]\n",
    "    # Get purchases made by that customer\n",
    "    pref_vec = train_mat[cust_ind,:].toarray()\n",
    "    # Add 1 to all purchases so that items not purchased yet become equal to 1\n",
    "    pref_vec = pref_vec.reshape(-1) + 1\n",
    "    # Make items that were already purchased 0 (so that they don't get included in the recommendation)\n",
    "    pref_vec[pref_vec > 1] = 0\n",
    "    # Get dot product of customer vector across all items in the item vector\n",
    "    rec_vector = customer_vecs[cust_ind,:].dot(item_vecs).toarray()\n",
    "    # Scale the recommendations between 0 and 1 using MinMax\n",
    "    scaler = MinMaxScaler()\n",
    "    rec_vector_scaled = scaler.fit_transform(rec_vector.reshape(-1,1))[:,0]\n",
    "    # Multiply by the purchased vector so that items already purchased are set to 0\n",
    "    recommend_vector = pref_vec*rec_vector_scaled\n",
    "    # Sort the indices in order of recommendations\n",
    "    item_idx = np.argsort(recommend_vector)[::-1][:num_items]\n",
    "    # Get the list of recommended items\n",
    "    rec_list = []\n",
    "    for index in item_idx:\n",
    "        stock_code = item_arr[index]\n",
    "        rec_list.append([stock_code, item_lookup[stock_code]])\n",
    "    return rec_list"
   ]
  },
  {
   "cell_type": "code",
   "execution_count": 24,
   "metadata": {
    "collapsed": false
   },
   "outputs": [
    {
     "name": "stdout",
     "output_type": "stream",
     "text": [
      "Customer ID:  12353\n",
      "[['84568', 'GIRLS ALPHABET IRON ON PATCHES '], ['47567B', 'TEA TIME KITCHEN APRON'], ['21626', 'VINTAGE UNION JACK PENNANT'], ['22057', 'CERAMIC PLATE STRAWBERRY DESIGN'], ['37448', 'CERAMIC CAKE DESIGN SPOTTED MUG'], ['37447', 'CERAMIC CAKE DESIGN SPOTTED PLATE'], ['22893', 'MINI CAKE STAND T-LIGHT HOLDER'], ['22063', 'CERAMIC BOWL WITH STRAWBERRY DESIGN'], ['22059', 'CERAMIC STRAWBERRY DESIGN MUG'], ['22649', 'STRAWBERRY FAIRY CAKE TEAPOT']]\n",
      "--------------------------------------------------\n",
      "Customer ID:  12354\n",
      "[['21746', 'SMALL RED RETROSPOT WINDMILL'], ['21700', 'BIG DOUGHNUT FRIDGE MAGNETS'], ['23155', 'KNICKERBOCKERGLORY MAGNET ASSORTED '], ['22898', 'CHILDRENS APRON APPLES DESIGN'], ['22243', '5 HOOK HANGER RED MAGIC TOADSTOOL'], ['22432', 'WATERING CAN PINK BUNNY'], ['22956', '36 FOIL HEART CAKE CASES'], ['21716', 'BOYS VINTAGE TIN SEASIDE BUCKET'], ['21749', 'LARGE RED RETROSPOT WINDMILL'], ['21878', 'PACK OF 6 SANDCASTLE FLAGS ASSORTED']]\n",
      "--------------------------------------------------\n",
      "Customer ID:  12355\n",
      "[['72741', 'GRAND CHOCOLATECANDLE'], ['84879', 'ASSORTED COLOUR BIRD ORNAMENT'], ['47566', 'PARTY BUNTING'], ['85123A', 'CREAM HANGING HEART T-LIGHT HOLDER'], ['84946', 'ANTIQUE SILVER T-LIGHT GLASS'], ['22112', 'CHOCOLATE HOT WATER BOTTLE'], ['20828', 'GLITTER BUTTERFLY CLIPS'], ['84755', 'COLOUR GLASS T-LIGHT HOLDER HANGING'], ['22969', 'HOMEMADE JAM SCENTED CANDLES'], ['22646', 'CERAMIC STRAWBERRY CAKE MONEY BANK']]\n",
      "--------------------------------------------------\n"
     ]
    }
   ],
   "source": [
    "# Let's look at what was recommended for the 3 customers\n",
    "for cust in customers_arr[6:9]:\n",
    "    print('Customer ID: ', cust)\n",
    "    print(get_rec_item(cust, train_mat, cust_vecs, item_vecs, customers_arr, items_arr, itemDescDict))\n",
    "    print('--------------------------------------------------')"
   ]
  },
  {
   "cell_type": "code",
   "execution_count": 25,
   "metadata": {
    "collapsed": false
   },
   "outputs": [
    {
     "data": {
      "text/plain": [
       "\"\\nLet's compare the items bought vs the items recommended by customer in a dataframe so \\nthat we can see more clearly how the recommendation engine did\\n\""
      ]
     },
     "execution_count": 25,
     "metadata": {},
     "output_type": "execute_result"
    }
   ],
   "source": [
    "'''\n",
    "Let's compare the items bought vs the items recommended by customer in a dataframe so \n",
    "that we can see more clearly how the recommendation engine did\n",
    "'''\n",
    "\n",
    "def compare_purchase_rec(customer_id, purchase_dict, rec_list):\n",
    "    '''\n",
    "    This function returns a dataframe with the 10 purchased items and top 10 recommended items for each customer\n",
    "    \n",
    "    args:\n",
    "    customer_id - The customer ID in the purchase matrix\n",
    "    purchase_dict - The output of the get_items_purchased function which is a dictionary of stock_cd:description of items purchased\n",
    "    rec_list - The output of the get_rec_item function which is a list of the top n stock_cd and description pairs\n",
    "    \n",
    "    returns:\n",
    "    A dataframe with all purchased items and top n recommended items by customer\n",
    "    '''\n",
    "    # Create dataframes of one column each - CustomerID, Purchased items, Recommended Items\n",
    "    cust_df = pd.DataFrame({'CustID': [customer_id]})\n",
    "    purchase_df = pd.DataFrame({'PurchasedItem': list(purchase_dict.values())})\n",
    "    rec_df = pd.DataFrame({'RecommendedItem': [pair[1] for pair in rec_list]})\n",
    "\n",
    "    # Column wise concatenate the dataframes\n",
    "    final_df = pd.concat([cust_df, purchase_df, rec_df], ignore_index=True, axis=1)\n",
    "    # Format the final dataframe\n",
    "    final_df.columns = ['CustID', 'PurchasedItem', 'RecommendedItem']\n",
    "    final_df['PurchasedItem'] = final_df.PurchasedItem.astype(str)\n",
    "    final_df['RecommendedItem'] = final_df.RecommendedItem.astype(str)\n",
    "    final_df = final_df.fillna('')\n",
    "    final_df = final_df.replace('nan', '', regex=True)\n",
    "    return final_df\n",
    "    \n",
    "    \n",
    "    "
   ]
  },
  {
   "cell_type": "code",
   "execution_count": 26,
   "metadata": {
    "collapsed": false
   },
   "outputs": [
    {
     "name": "stdout",
     "output_type": "stream",
     "text": [
      "    CustID    PurchasedItem                       RecommendedItem\n",
      "--  --------  ----------------------------------  -----------------------------------\n",
      " 0  12353.0   NOVELTY BISCUITS CAKE STAND 3 TIER  GIRLS ALPHABET IRON ON PATCHES\n",
      " 1            MINI CAKE STAND WITH HANGING CAKES  TEA TIME KITCHEN APRON\n",
      " 2            CERAMIC CAKE STAND + HANGING CAKES  VINTAGE UNION JACK PENNANT\n",
      " 3            CERAMIC CAKE BOWL + HANGING CAKES   CERAMIC PLATE STRAWBERRY DESIGN\n",
      " 4                                                CERAMIC CAKE DESIGN SPOTTED MUG\n",
      " 5                                                CERAMIC CAKE DESIGN SPOTTED PLATE\n",
      " 6                                                MINI CAKE STAND T-LIGHT HOLDER\n",
      " 7                                                CERAMIC BOWL WITH STRAWBERRY DESIGN\n",
      " 8                                                CERAMIC STRAWBERRY DESIGN MUG\n",
      " 9                                                STRAWBERRY FAIRY CAKE TEAPOT\n",
      "    CustID    PurchasedItem                       RecommendedItem\n",
      "--  --------  ----------------------------------  -----------------------------------\n",
      " 0  12354.0   BLUE POLKADOT BOWL                  SMALL RED RETROSPOT WINDMILL\n",
      " 1            RED RETROSPOT BOWL                  BIG DOUGHNUT FRIDGE MAGNETS\n",
      " 2            PINK POLKADOT BOWL                  KNICKERBOCKERGLORY MAGNET ASSORTED\n",
      " 3            LUNCH BAG RED SPOTTY                CHILDRENS APRON APPLES DESIGN\n",
      " 4            ASSORTED COLOUR MINI CASES          5 HOOK HANGER RED MAGIC TOADSTOOL\n",
      " 5            SET/20 RED RETROSPOT PAPER NAPKINS  WATERING CAN PINK BUNNY\n",
      " 6            RETROSPOT CHILDRENS APRON           36 FOIL HEART CAKE CASES\n",
      " 7            RED RETROSPOT ROUND CAKE TINS       BOYS VINTAGE TIN SEASIDE BUCKET\n",
      " 8            RED RETROSPOT CUP                   LARGE RED RETROSPOT WINDMILL\n",
      " 9            PINK  POLKADOT CUP                  PACK OF 6 SANDCASTLE FLAGS ASSORTED\n",
      "10            BLUE POLKADOT CUP\n",
      "11            RED RETROSPOT PLATE\n",
      "12            PINK POLKADOT PLATE\n",
      "13            BLUE POLKADOT PLATE\n",
      "14            RED RETROSPOT BIG BOWL\n",
      "15            WOODEN HAPPY BIRTHDAY GARLAND\n",
      "16            RETROSPOT LARGE MILK JUG\n",
      "17            RED TOADSTOOL LED NIGHT LIGHT\n",
      "18            S/6 WOODEN SKITTLES IN COTTON BAG\n",
      "19            TRADITIONAL WOODEN SKIPPING ROPE\n",
      "20            UNION STRIPE WITH FRINGE  HAMMOCK\n",
      "21            PAPER BUNTING RETROSPOT\n",
      "22            BAKING SET 9 PIECE RETROSPOT\n",
      "23            CAKE STAND WHITE TWO TIER LACE\n",
      "24            FIVE CATS HANGING DECORATION\n",
      "25            ROUND SNACK BOXES SET OF4 WOODLAND\n",
      "26            PARTY PIZZA DISH PINK POLKADOT\n",
      "27            LUNCH BAG PINK POLKADOT\n",
      "28            BOX OF VINTAGE JIGSAW BLOCKS\n",
      "29            PICNIC BOXES SET OF 3 RETROSPOT\n",
      "30            SPACEBOY LUNCH BOX\n",
      "31            DOLLY GIRL LUNCH BOX\n",
      "32            CIRCUS PARADE LUNCH BOX\n",
      "33            CHILDS BREAKFAST SET DOLLY GIRL\n",
      "34            CHARLOTTE BAG DOLLY GIRL DESIGN\n",
      "35            PINK BABY BUNTING\n",
      "36            3 TIER CAKE TIN GREEN AND CREAM\n",
      "37            CHILDREN'S APRON DOLLY GIRL\n",
      "38            CARD BILLBOARD FONT\n",
      "39            CIRCUS PARADE BABY GIFT SET\n",
      "40            RECYCLED ACAPULCO MAT TURQUOISE\n",
      "41            RECYCLED ACAPULCO MAT LAVENDER\n",
      "42            JUMBO BAG ALPHABET\n",
      "43            CHARLOTTE BAG ALPHABET  DESIGN\n",
      "44            KIDS CUTLERY DOLLY GIRL\n",
      "45            CHILDRENS CUTLERY CIRCUS PARADE\n",
      "46            KIDS CUTLERY SPACEBOY\n",
      "47            CHILDRENS CUTLERY POLKADOT PINK\n",
      "    CustID    PurchasedItem                       RecommendedItem\n",
      "--  --------  ----------------------------------  -----------------------------------\n",
      " 0  12355.0   REGENCY CAKESTAND 3 TIER            GRAND CHOCOLATECANDLE\n",
      " 1            STRAWBERRY FAIRY CAKE TEAPOT        ASSORTED COLOUR BIRD ORNAMENT\n",
      " 2            GROW A FLYTRAP OR SUNFLOWER IN TIN  PARTY BUNTING\n",
      " 3            GREEN REGENCY TEACUP AND SAUCER     CREAM HANGING HEART T-LIGHT HOLDER\n",
      " 4            PINK REGENCY TEACUP AND SAUCER      ANTIQUE SILVER T-LIGHT GLASS\n",
      " 5            ROSES REGENCY TEACUP AND SAUCER     CHOCOLATE HOT WATER BOTTLE\n",
      " 6            NOVELTY BISCUITS CAKE STAND 3 TIER  GLITTER BUTTERFLY CLIPS\n",
      " 7            ICE CREAM SUNDAE LIP GLOSS          COLOUR GLASS T-LIGHT HOLDER HANGING\n",
      " 8            OCEAN SCENT CANDLE IN JEWELLED BOX  HOMEMADE JAM SCENTED CANDLES\n",
      " 9            VANILLA SCENT CANDLE JEWELLED BOX   CERAMIC STRAWBERRY CAKE MONEY BANK\n",
      "10            S/4 PINK FLOWER CANDLES IN BOWL\n"
     ]
    }
   ],
   "source": [
    "# Let's compare the same 3 customers\n",
    "for cust in customers_arr[6:9]:\n",
    "    print(tabulate(compare_purchase_rec(cust, \n",
    "                               get_items_purchased(cust, train_mat, customers_arr, items_arr, itemDescDict),\n",
    "                               get_rec_item(cust, train_mat, cust_vecs, item_vecs, customers_arr, items_arr, itemDescDict)),\n",
    "                  headers= ['CustID', 'PurchasedItem', 'RecommendedItem']))\n",
    "    "
   ]
  },
  {
   "cell_type": "markdown",
   "metadata": {
    "collapsed": false
   },
   "source": [
    "\n",
    "Looking at the recommendations, we can see that the engine did pretty well. \n",
    "For customer 12353, all his purchases are cake related so it seems like he's planning for a birthday party.\n",
    "All the recommendations include design patterns for the cake or utensils/cutlery that he/she could use for making/serving the cake. \n",
    "\n",
    "Similarly for customer 12355, we can see that all his purchases indicate that he's hosting a high tea apart from the lip gloss. \n",
    "His recommendations include more variants of candles and other ornaments. \n"
   ]
  }
 ],
 "metadata": {
  "kernelspec": {
   "display_name": "Python [conda env:python3]",
   "language": "python",
   "name": "conda-env-python3-py"
  },
  "language_info": {
   "codemirror_mode": {
    "name": "ipython",
    "version": 3
   },
   "file_extension": ".py",
   "mimetype": "text/x-python",
   "name": "python",
   "nbconvert_exporter": "python",
   "pygments_lexer": "ipython3",
   "version": "3.6.1"
  }
 },
 "nbformat": 4,
 "nbformat_minor": 2
}
